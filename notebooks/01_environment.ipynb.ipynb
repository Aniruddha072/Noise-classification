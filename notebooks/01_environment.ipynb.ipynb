{
  "nbformat": 4,
  "nbformat_minor": 0,
  "metadata": {
    "colab": {
      "provenance": [],
      "authorship_tag": "ABX9TyO/uT6Rj6AmYaw5qva853PE",
      "include_colab_link": true
    },
    "kernelspec": {
      "name": "python3",
      "display_name": "Python 3"
    },
    "language_info": {
      "name": "python"
    }
  },
  "cells": [
    {
      "cell_type": "markdown",
      "metadata": {
        "id": "view-in-github",
        "colab_type": "text"
      },
      "source": [
        "<a href=\"https://colab.research.google.com/github/Aniruddha072/Noise-classification/blob/main/notebooks/01_environment.ipynb.ipynb\" target=\"_parent\"><img src=\"https://colab.research.google.com/assets/colab-badge.svg\" alt=\"Open In Colab\"/></a>"
      ]
    },
    {
      "cell_type": "code",
      "source": [
        "# Clone your GitHub repo into Colab\n",
        "!git clone https://github.com/Aniruddha072/Noise-classification.git\n",
        "%cd Noise-classification\n",
        "\n",
        "# Install dependencies\n",
        "!pip install -r requirements.txt\n",
        "\n",
        "# Mount Google Drive for saving models, features, results\n",
        "from google.colab import drive\n",
        "drive.mount('/content/drive')\n",
        "\n",
        "# Create project folders inside Drive for persistent outputs\n",
        "import os\n",
        "\n",
        "base_dir = \"/content/drive/MyDrive/NoiseClassification\"\n",
        "os.makedirs(base_dir, exist_ok=True)\n",
        "\n",
        "for folder in [\"data\", \"features\", \"models\", \"reports\"]:\n",
        "    os.makedirs(os.path.join(base_dir, folder), exist_ok=True)\n",
        "\n",
        "print(\"Project setup complete! All outputs will be saved in:\", base_dir)\n"
      ],
      "metadata": {
        "colab": {
          "base_uri": "https://localhost:8080/"
        },
        "id": "Xp1TsVekgmLV",
        "outputId": "ef084250-a559-4906-8bb5-b836592368a7"
      },
      "execution_count": 2,
      "outputs": [
        {
          "output_type": "stream",
          "name": "stdout",
          "text": [
            "fatal: destination path 'Noise-classification' already exists and is not an empty directory.\n",
            "/content/Noise-classification\n",
            "Requirement already satisfied: numpy>=1.22 in /usr/local/lib/python3.12/dist-packages (from -r requirements.txt (line 1)) (2.0.2)\n",
            "Requirement already satisfied: pandas>=1.4 in /usr/local/lib/python3.12/dist-packages (from -r requirements.txt (line 2)) (2.2.2)\n",
            "Requirement already satisfied: librosa>=0.10.0 in /usr/local/lib/python3.12/dist-packages (from -r requirements.txt (line 3)) (0.11.0)\n",
            "Requirement already satisfied: scikit-learn>=1.1 in /usr/local/lib/python3.12/dist-packages (from -r requirements.txt (line 4)) (1.6.1)\n",
            "Requirement already satisfied: matplotlib>=3.6 in /usr/local/lib/python3.12/dist-packages (from -r requirements.txt (line 5)) (3.10.0)\n",
            "Requirement already satisfied: seaborn>=0.12 in /usr/local/lib/python3.12/dist-packages (from -r requirements.txt (line 6)) (0.13.2)\n",
            "Requirement already satisfied: tensorflow>=2.12 in /usr/local/lib/python3.12/dist-packages (from -r requirements.txt (line 7)) (2.19.0)\n",
            "Requirement already satisfied: torch>=2.0 in /usr/local/lib/python3.12/dist-packages (from -r requirements.txt (line 8)) (2.8.0+cu126)\n",
            "Requirement already satisfied: torchaudio>=2.0 in /usr/local/lib/python3.12/dist-packages (from -r requirements.txt (line 9)) (2.8.0+cu126)\n",
            "Requirement already satisfied: umap-learn in /usr/local/lib/python3.12/dist-packages (from -r requirements.txt (line 10)) (0.5.9.post2)\n",
            "Collecting openl3 (from -r requirements.txt (line 11))\n",
            "  Using cached openl3-0.4.2.tar.gz (29 kB)\n",
            "  \u001b[1;31merror\u001b[0m: \u001b[1msubprocess-exited-with-error\u001b[0m\n",
            "  \n",
            "  \u001b[31m×\u001b[0m \u001b[32mpython setup.py egg_info\u001b[0m did not run successfully.\n",
            "  \u001b[31m│\u001b[0m exit code: \u001b[1;36m1\u001b[0m\n",
            "  \u001b[31m╰─>\u001b[0m See above for output.\n",
            "  \n",
            "  \u001b[1;35mnote\u001b[0m: This error originates from a subprocess, and is likely not a problem with pip.\n",
            "  Preparing metadata (setup.py) ... \u001b[?25l\u001b[?25herror\n",
            "\u001b[1;31merror\u001b[0m: \u001b[1mmetadata-generation-failed\u001b[0m\n",
            "\n",
            "\u001b[31m×\u001b[0m Encountered error while generating package metadata.\n",
            "\u001b[31m╰─>\u001b[0m See above for output.\n",
            "\n",
            "\u001b[1;35mnote\u001b[0m: This is an issue with the package mentioned above, not pip.\n",
            "\u001b[1;36mhint\u001b[0m: See above for details.\n",
            "Drive already mounted at /content/drive; to attempt to forcibly remount, call drive.mount(\"/content/drive\", force_remount=True).\n",
            "Project setup complete! All outputs will be saved in: /content/drive/MyDrive/NoiseClassification\n"
          ]
        }
      ]
    },
    {
      "cell_type": "code",
      "source": [
        "!ls"
      ],
      "metadata": {
        "colab": {
          "base_uri": "https://localhost:8080/"
        },
        "id": "NVYy6BQjg8Wv",
        "outputId": "e8c1d8bc-3139-4234-bae9-2cc2352c62dc"
      },
      "execution_count": 2,
      "outputs": [
        {
          "output_type": "stream",
          "name": "stdout",
          "text": [
            "notebooks  requirements.txt  src\n"
          ]
        }
      ]
    },
    {
      "cell_type": "code",
      "execution_count": 3,
      "metadata": {
        "id": "Hne-8BPLfpzV",
        "colab": {
          "base_uri": "https://localhost:8080/",
          "height": 106
        },
        "outputId": "ac8043c3-ada0-4c38-efc8-99faf96901ed"
      },
      "outputs": [
        {
          "output_type": "error",
          "ename": "SyntaxError",
          "evalue": "invalid decimal literal (ipython-input-2831583835.py, line 149)",
          "traceback": [
            "\u001b[0;36m  File \u001b[0;32m\"/tmp/ipython-input-2831583835.py\"\u001b[0;36m, line \u001b[0;32m149\u001b[0m\n\u001b[0;31m    > **Next steps:** Run the next notebook (`02_download_datasets.ipynb`) to download UrbanSound8K, ESC-50, and upload your custom campus recordings.\u001b[0m\n\u001b[0m                                                ^\u001b[0m\n\u001b[0;31mSyntaxError\u001b[0m\u001b[0;31m:\u001b[0m invalid decimal literal\n"
          ]
        }
      ],
      "source": [
        "# Noise Classification Project — Environment & Google Drive Setup (Colab Ready)\n",
        "\n",
        "This notebook sets up the reproducible environment for UrbanSound8K, ESC-50, and custom campus recordings on Google Colab.\n",
        "It mounts Google Drive, creates persistent folders, installs dependencies, and logs all versions.\n",
        "\n",
        "---\n",
        "\n",
        "## 1. Mount Google Drive\n",
        "\n",
        "```python\n",
        "from google.colab import drive\n",
        "drive.mount('/content/drive')\n",
        "\n",
        "# Create main project directory on Drive for persistent saving\n",
        "import os\n",
        "\n",
        "project_drive_root = '/content/drive/MyDrive/NoiseClassification'\n",
        "folders = [\n",
        "    'datasets',              # Raw + processed audio\n",
        "    'datasets/features',     # Extracted features\n",
        "    'datasets/UrbanSound8K', # Raw UrbanSound8K\n",
        "    'datasets/ESC-50',       # Raw ESC-50\n",
        "    'datasets/campus',       # Raw campus recordings\n",
        "    'models',                # Saved models\n",
        "    'reports',               # CSVs, tables, figures\n",
        "    'figures',               # Visualization outputs\n",
        "    'src',                   # Modular scripts\n",
        "]\n",
        "\n",
        "for folder in folders:\n",
        "    path = os.path.join(project_drive_root, folder)\n",
        "    os.makedirs(path, exist_ok=True)\n",
        "print(\"Project folders created under:\", project_drive_root)\n",
        "```\n",
        "\n",
        "---\n",
        "\n",
        "## 2. Set up Colab & Install Dependencies\n",
        "\n",
        "```python\n",
        "# Write requirements.txt for reproducibility\n",
        "requirements = '''\n",
        "numpy>=1.22\n",
        "pandas>=1.4\n",
        "librosa>=0.10.0\n",
        "scikit-learn>=1.1\n",
        "matplotlib>=3.6\n",
        "seaborn>=0.12\n",
        "tensorflow>=2.12\n",
        "torch>=2.0\n",
        "torchaudio>=2.0\n",
        "umap-learn\n",
        "openl3\n",
        "pandas\n",
        "tqdm\n",
        "audiomentations\n",
        "wget\n",
        "'''\n",
        "\n",
        "with open('requirements.txt', 'w') as f:\n",
        "    f.write(requirements)\n",
        "\n",
        "# Install requirements in Colab (select TensorFlow or PyTorch as needed)\n",
        "!pip install -q -r requirements.txt\n",
        "!pip install -q panns-inference # YAMNet, PANNs\n",
        "\n",
        "# Log versions for reproducibility\n",
        "import sys, librosa, sklearn, matplotlib, seaborn, tensorflow as tf, torch\n",
        "print(\"Python:\", sys.version)\n",
        "print(\"librosa:\", librosa.__version__)\n",
        "print(\"scikit-learn:\", sklearn.__version__)\n",
        "print(\"matplotlib:\", matplotlib.__version__)\n",
        "print(\"seaborn:\", seaborn.__version__)\n",
        "print(\"TensorFlow:\", tf.__version__)\n",
        "print(\"PyTorch:\", torch.__version__)\n",
        "```\n",
        "\n",
        "---\n",
        "\n",
        "## 3. Set up Paths & Random Seeds (config.py)\n",
        "\n",
        "```python\n",
        "# src/config.py (create file for all scripts to import)\n",
        "import os\n",
        "import numpy as np\n",
        "import random\n",
        "\n",
        "# Paths\n",
        "COLAB_ROOT = '/content'\n",
        "DRIVE_ROOT = '/content/drive/MyDrive/NoiseClassification'\n",
        "DATASET_ROOT = os.path.join(DRIVE_ROOT, 'datasets')\n",
        "FEATURES_ROOT = os.path.join(DATASET_ROOT, 'features')\n",
        "MODELS_ROOT = os.path.join(DRIVE_ROOT, 'models')\n",
        "REPORTS_ROOT = os.path.join(DRIVE_ROOT, 'reports')\n",
        "FIGURES_ROOT = os.path.join(DRIVE_ROOT, 'figures')\n",
        "\n",
        "# Audio params\n",
        "SR = 22050\n",
        "DURATION = 4.0\n",
        "N_MELS = 128\n",
        "N_FFT = 2048\n",
        "HOP_LENGTH = 512\n",
        "\n",
        "# Random seeds for reproducibility\n",
        "SEED = 42\n",
        "np.random.seed(SEED)\n",
        "random.seed(SEED)\n",
        "try:\n",
        "    import torch\n",
        "    torch.manual_seed(SEED)\n",
        "except ImportError:\n",
        "    pass\n",
        "\n",
        "# Export for scripts/notebooks\n",
        "print(f\"SR={SR}, Duration={DURATION}, N_MELS={N_MELS}\")\n",
        "```\n",
        "\n",
        "---\n",
        "\n",
        "## 4. Instructions for GPU/CPU Selection\n",
        "\n",
        "```python\n",
        "# Colab: Check GPU availability and set device\n",
        "import torch\n",
        "device = 'cuda' if torch.cuda.is_available() else 'cpu'\n",
        "print(\"Using device:\", device)\n",
        "\n",
        "# For TensorFlow:\n",
        "import tensorflow as tf\n",
        "print(\"TF GPU available:\", tf.config.list_physical_devices('GPU'))\n",
        "```\n",
        "\n",
        "---\n",
        "\n",
        "## 5. Manifest for Outputs\n",
        "\n",
        "```python\n",
        "import json\n",
        "manifest_path = os.path.join(DRIVE_ROOT, 'manifest.json')\n",
        "manifest = {} # Will be filled as pipeline runs\n",
        "\n",
        "with open(manifest_path, 'w') as f:\n",
        "    json.dump(manifest, f)\n",
        "print(\"Initialized manifest.json for output tracking.\")\n",
        "```\n",
        "\n",
        "---\n",
        "\n",
        "> **Next steps:** Run the next notebook (`02_download_datasets.ipynb`) to download UrbanSound8K, ESC-50, and upload your custom campus recordings."
      ]
    }
  ]
}